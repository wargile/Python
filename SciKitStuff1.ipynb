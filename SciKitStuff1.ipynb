{
 "metadata": {
  "name": "",
  "signature": "sha256:54272c70b381a69cb8803bb9933fc67f722e0cf9a3773ae149828939e353c400"
 },
 "nbformat": 3,
 "nbformat_minor": 0,
 "worksheets": [
  {
   "cells": [
    {
     "cell_type": "code",
     "collapsed": false,
     "input": [
      "# Authors: Alexandre Gramfort <alexandre.gramfort@inria.fr>\n",
      "#          Mathieu Blondel <mathieu@mblondel.org>\n",
      "#          Andreas Mueller <amueller@ais.uni-bonn.de>\n",
      "# License: BSD 3 clause\n",
      "\n",
      "import numpy as np\n",
      "import matplotlib.pyplot as plt\n",
      "\n",
      "from sklearn.linear_model import LogisticRegression\n",
      "from sklearn import datasets\n",
      "from sklearn.preprocessing import StandardScaler\n",
      "\n",
      "%matplotlib inline\n",
      "\n",
      "digits = datasets.load_digits()\n",
      "\n",
      "X, y = digits.data, digits.target\n",
      "X = StandardScaler().fit_transform(X)\n",
      "\n",
      "# classify small against large digits\n",
      "y = (y > 4).astype(np.int)\n",
      "\n",
      "\n",
      "# Set regularization parameter\n",
      "for i, C in enumerate((100, 1, 0.01)):\n",
      "    # turn down tolerance for short training time\n",
      "    clf_l1_LR = LogisticRegression(C=C, penalty='l1', tol=0.01)\n",
      "    clf_l2_LR = LogisticRegression(C=C, penalty='l2', tol=0.01)\n",
      "    clf_l1_LR.fit(X, y)\n",
      "    clf_l2_LR.fit(X, y)\n",
      "\n",
      "    coef_l1_LR = clf_l1_LR.coef_.ravel()\n",
      "    coef_l2_LR = clf_l2_LR.coef_.ravel()\n",
      "\n",
      "    # coef_l1_LR contains zeros due to the\n",
      "    # L1 sparsity inducing norm\n",
      "\n",
      "    sparsity_l1_LR = np.mean(coef_l1_LR == 0) * 100\n",
      "    sparsity_l2_LR = np.mean(coef_l2_LR == 0) * 100\n",
      "\n",
      "    print(\"C=%.2f\" % C)\n",
      "    print(\"Sparsity with L1 penalty: %.2f%%\" % sparsity_l1_LR)\n",
      "    print(\"score with L1 penalty: %.4f\" % clf_l1_LR.score(X, y))\n",
      "    print(\"Sparsity with L2 penalty: %.2f%%\" % sparsity_l2_LR)\n",
      "    print(\"score with L2 penalty: %.4f\" % clf_l2_LR.score(X, y))\n",
      "\n",
      "    l1_plot = plt.subplot(3, 2, 2 * i + 1)\n",
      "    l2_plot = plt.subplot(3, 2, 2 * (i + 1))\n",
      "    if i == 0:\n",
      "        l1_plot.set_title(\"L1 penalty\")\n",
      "        l2_plot.set_title(\"L2 penalty\")\n",
      "\n",
      "    l1_plot.imshow(np.abs(coef_l1_LR.reshape(8, 8)), interpolation='nearest',\n",
      "                   cmap='binary', vmax=1, vmin=0)\n",
      "    l2_plot.imshow(np.abs(coef_l2_LR.reshape(8, 8)), interpolation='nearest',\n",
      "                   cmap='binary', vmax=1, vmin=0)\n",
      "    plt.text(-8, 3, \"C = %.2f\" % C)\n",
      "\n",
      "    l1_plot.set_xticks(())\n",
      "    l1_plot.set_yticks(())\n",
      "    l2_plot.set_xticks(())\n",
      "    l2_plot.set_yticks(())\n",
      "\n",
      "plt.show()"
     ],
     "language": "python",
     "metadata": {},
     "outputs": [
      {
       "output_type": "stream",
       "stream": "stdout",
       "text": [
        "C=100.00\n",
        "Sparsity with L1 penalty: 6.25%\n",
        "score with L1 penalty: 0.9110\n",
        "Sparsity with L2 penalty: 4.69%\n",
        "score with L2 penalty: 0.9098\n",
        "C=1.00"
       ]
      },
      {
       "output_type": "stream",
       "stream": "stdout",
       "text": [
        "\n",
        "Sparsity with L1 penalty: 10.94%\n",
        "score with L1 penalty: 0.9110\n",
        "Sparsity with L2 penalty: 4.69%\n",
        "score with L2 penalty: 0.9093\n",
        "C=0.01"
       ]
      },
      {
       "output_type": "stream",
       "stream": "stdout",
       "text": [
        "\n",
        "Sparsity with L1 penalty: 85.94%\n",
        "score with L1 penalty: 0.8620\n",
        "Sparsity with L2 penalty: 4.69%\n",
        "score with L2 penalty: 0.8915\n"
       ]
      },
      {
       "metadata": {},
       "output_type": "display_data",
       "png": "[encoded data removed]",
       "text": [
        "<matplotlib.figure.Figure at 0x1ef9898>"
       ]
      }
     ],
     "prompt_number": 2
    },
    {
     "cell_type": "code",
     "collapsed": false,
     "input": [
      "for i, C in enumerate(range(1,11)):\n",
      "    print i"
     ],
     "language": "python",
     "metadata": {},
     "outputs": [
      {
       "output_type": "stream",
       "stream": "stdout",
       "text": [
        "0\n",
        "1\n",
        "2\n",
        "3\n",
        "4\n",
        "5\n",
        "6\n",
        "7\n",
        "8\n",
        "9\n"
       ]
      }
     ],
     "prompt_number": 14
    },
    {
     "cell_type": "code",
     "collapsed": false,
     "input": [
      "np.abs(-2234.34).round()"
     ],
     "language": "python",
     "metadata": {},
     "outputs": [
      {
       "metadata": {},
       "output_type": "pyout",
       "prompt_number": 12,
       "text": [
        "2234.0"
       ]
      }
     ],
     "prompt_number": 12
    },
    {
     "cell_type": "code",
     "collapsed": false,
     "input": [
      "import pandas as pd\n",
      "data = pd.read_csv(\"c:/coding/R/testdata/EarthQuakes.csv\")"
     ],
     "language": "python",
     "metadata": {},
     "outputs": [],
     "prompt_number": 14
    },
    {
     "cell_type": "code",
     "collapsed": false,
     "input": [
      "data.tail(2)"
     ],
     "language": "python",
     "metadata": {},
     "outputs": [
      {
       "ename": "SyntaxError",
       "evalue": "invalid syntax (<ipython-input-29-3057cc291493>, line 1)",
       "output_type": "pyerr",
       "traceback": [
        "\u001b[1;36m  File \u001b[1;32m\"<ipython-input-29-3057cc291493>\"\u001b[1;36m, line \u001b[1;32m1\u001b[0m\n\u001b[1;33m    data.tail(2).ix(:2, :6)\u001b[0m\n\u001b[1;37m                    ^\u001b[0m\n\u001b[1;31mSyntaxError\u001b[0m\u001b[1;31m:\u001b[0m invalid syntax\n"
       ]
      }
     ],
     "prompt_number": 29
    },
    {
     "cell_type": "code",
     "collapsed": false,
     "input": [
      "data[0:5].ix[:3, :8]"
     ],
     "language": "python",
     "metadata": {},
     "outputs": [
      {
       "html": [
        "<div style=\"max-height:1000px;max-width:1500px;overflow:auto;\">\n",
        "<table border=\"1\" class=\"dataframe\">\n",
        "  <thead>\n",
        "    <tr style=\"text-align: right;\">\n",
        "      <th></th>\n",
        "      <th>time</th>\n",
        "      <th>latitude</th>\n",
        "      <th>longitude</th>\n",
        "      <th>depth</th>\n",
        "      <th>mag</th>\n",
        "      <th>magType</th>\n",
        "      <th>nst</th>\n",
        "      <th>gap</th>\n",
        "    </tr>\n",
        "  </thead>\n",
        "  <tbody>\n",
        "    <tr>\n",
        "      <th>0</th>\n",
        "      <td> 2013-11-06T07:56:44.100Z</td>\n",
        "      <td> 38.7638</td>\n",
        "      <td>-122.7417</td>\n",
        "      <td>  2.4</td>\n",
        "      <td> 1.2</td>\n",
        "      <td> Md</td>\n",
        "      <td>NaN</td>\n",
        "      <td>  97.2</td>\n",
        "    </tr>\n",
        "    <tr>\n",
        "      <th>1</th>\n",
        "      <td> 2013-11-06T07:49:54.000Z</td>\n",
        "      <td> 62.8831</td>\n",
        "      <td>-148.9155</td>\n",
        "      <td>  8.6</td>\n",
        "      <td> 2.8</td>\n",
        "      <td> Ml</td>\n",
        "      <td> 43</td>\n",
        "      <td>  36.0</td>\n",
        "    </tr>\n",
        "    <tr>\n",
        "      <th>2</th>\n",
        "      <td> 2013-11-06T07:48:10.700Z</td>\n",
        "      <td> 38.8112</td>\n",
        "      <td>-122.8295</td>\n",
        "      <td>  3.4</td>\n",
        "      <td> 0.9</td>\n",
        "      <td> Md</td>\n",
        "      <td>NaN</td>\n",
        "      <td>  93.6</td>\n",
        "    </tr>\n",
        "    <tr>\n",
        "      <th>3</th>\n",
        "      <td> 2013-11-06T07:46:40.900Z</td>\n",
        "      <td> 32.9027</td>\n",
        "      <td>-116.7773</td>\n",
        "      <td> 11.7</td>\n",
        "      <td> 1.3</td>\n",
        "      <td> Ml</td>\n",
        "      <td> 14</td>\n",
        "      <td> 262.8</td>\n",
        "    </tr>\n",
        "  </tbody>\n",
        "</table>\n",
        "</div>"
       ],
       "metadata": {},
       "output_type": "pyout",
       "prompt_number": 40,
       "text": [
        "                       time  latitude  longitude  depth  mag magType  nst  \\\n",
        "0  2013-11-06T07:56:44.100Z   38.7638  -122.7417    2.4  1.2      Md  NaN   \n",
        "1  2013-11-06T07:49:54.000Z   62.8831  -148.9155    8.6  2.8      Ml   43   \n",
        "2  2013-11-06T07:48:10.700Z   38.8112  -122.8295    3.4  0.9      Md  NaN   \n",
        "3  2013-11-06T07:46:40.900Z   32.9027  -116.7773   11.7  1.3      Ml   14   \n",
        "\n",
        "     gap  \n",
        "0   97.2  \n",
        "1   36.0  \n",
        "2   93.6  \n",
        "3  262.8  "
       ]
      }
     ],
     "prompt_number": 40
    },
    {
     "cell_type": "code",
     "collapsed": false,
     "input": [
      "data_df = pd.DataFrame(data)"
     ],
     "language": "python",
     "metadata": {},
     "outputs": [],
     "prompt_number": 32
    },
    {
     "cell_type": "code",
     "collapsed": false,
     "input": [
      "data_df.ix[:2, :5]"
     ],
     "language": "python",
     "metadata": {},
     "outputs": [
      {
       "html": [
        "<div style=\"max-height:1000px;max-width:1500px;overflow:auto;\">\n",
        "<table border=\"1\" class=\"dataframe\">\n",
        "  <thead>\n",
        "    <tr style=\"text-align: right;\">\n",
        "      <th></th>\n",
        "      <th>time</th>\n",
        "      <th>latitude</th>\n",
        "      <th>longitude</th>\n",
        "      <th>depth</th>\n",
        "      <th>mag</th>\n",
        "    </tr>\n",
        "  </thead>\n",
        "  <tbody>\n",
        "    <tr>\n",
        "      <th>0</th>\n",
        "      <td> 2013-11-06T07:56:44.100Z</td>\n",
        "      <td> 38.7638</td>\n",
        "      <td>-122.7417</td>\n",
        "      <td> 2.4</td>\n",
        "      <td> 1.2</td>\n",
        "    </tr>\n",
        "    <tr>\n",
        "      <th>1</th>\n",
        "      <td> 2013-11-06T07:49:54.000Z</td>\n",
        "      <td> 62.8831</td>\n",
        "      <td>-148.9155</td>\n",
        "      <td> 8.6</td>\n",
        "      <td> 2.8</td>\n",
        "    </tr>\n",
        "    <tr>\n",
        "      <th>2</th>\n",
        "      <td> 2013-11-06T07:48:10.700Z</td>\n",
        "      <td> 38.8112</td>\n",
        "      <td>-122.8295</td>\n",
        "      <td> 3.4</td>\n",
        "      <td> 0.9</td>\n",
        "    </tr>\n",
        "  </tbody>\n",
        "</table>\n",
        "</div>"
       ],
       "metadata": {},
       "output_type": "pyout",
       "prompt_number": 34,
       "text": [
        "                       time  latitude  longitude  depth  mag\n",
        "0  2013-11-06T07:56:44.100Z   38.7638  -122.7417    2.4  1.2\n",
        "1  2013-11-06T07:49:54.000Z   62.8831  -148.9155    8.6  2.8\n",
        "2  2013-11-06T07:48:10.700Z   38.8112  -122.8295    3.4  0.9"
       ]
      }
     ],
     "prompt_number": 34
    },
    {
     "cell_type": "code",
     "collapsed": false,
     "input": [
      "data_df[[\"latitude\",\"longitude\"]][0:4]"
     ],
     "language": "python",
     "metadata": {},
     "outputs": [
      {
       "html": [
        "<div style=\"max-height:1000px;max-width:1500px;overflow:auto;\">\n",
        "<table border=\"1\" class=\"dataframe\">\n",
        "  <thead>\n",
        "    <tr style=\"text-align: right;\">\n",
        "      <th></th>\n",
        "      <th>latitude</th>\n",
        "      <th>longitude</th>\n",
        "    </tr>\n",
        "  </thead>\n",
        "  <tbody>\n",
        "    <tr>\n",
        "      <th>0</th>\n",
        "      <td> 38.7638</td>\n",
        "      <td>-122.7417</td>\n",
        "    </tr>\n",
        "    <tr>\n",
        "      <th>1</th>\n",
        "      <td> 62.8831</td>\n",
        "      <td>-148.9155</td>\n",
        "    </tr>\n",
        "    <tr>\n",
        "      <th>2</th>\n",
        "      <td> 38.8112</td>\n",
        "      <td>-122.8295</td>\n",
        "    </tr>\n",
        "    <tr>\n",
        "      <th>3</th>\n",
        "      <td> 32.9027</td>\n",
        "      <td>-116.7773</td>\n",
        "    </tr>\n",
        "  </tbody>\n",
        "</table>\n",
        "</div>"
       ],
       "metadata": {},
       "output_type": "pyout",
       "prompt_number": 44,
       "text": [
        "   latitude  longitude\n",
        "0   38.7638  -122.7417\n",
        "1   62.8831  -148.9155\n",
        "2   38.8112  -122.8295\n",
        "3   32.9027  -116.7773"
       ]
      }
     ],
     "prompt_number": 44
    },
    {
     "cell_type": "code",
     "collapsed": false,
     "input": [
      "# http://matplotlib.org/examples/index.html\n",
      "fig, ax = plt.subplots()\n",
      "#ax.plot(data_df[[\"latitude\",\"longitude\"]][0:100])\n",
      "ax.boxplot(data_df[\"latitude\"])\n",
      "fig, ax = plt.subplots()\n",
      "ax.hist(data_df[\"latitude\"])\n",
      "ax.hist(data_df[\"longitude\"])"
     ],
     "language": "python",
     "metadata": {},
     "outputs": [
      {
       "metadata": {},
       "output_type": "pyout",
       "prompt_number": 64,
       "text": [
        "(array([ 294.,  892.,   31.,   53.,    3.,    6.,    3.,   13.,   29.,   22.]),\n",
        " array([-178.9966 , -143.44739, -107.89818,  -72.34897,  -36.79976,\n",
        "          -1.25055,   34.29866,   69.84787,  105.39708,  140.94629,\n",
        "         176.4955 ]),\n",
        " <a list of 10 Patch objects>)"
       ]
      },
      {
       "metadata": {},
       "output_type": "display_data",
       "png": "[encoded data removed]",
       "text": [
        "<matplotlib.figure.Figure at 0x1aad3e10>"
       ]
      },
      {
       "metadata": {},
       "output_type": "display_data",
       "png": "[encoded data removed]",
       "text": [
        "<matplotlib.figure.Figure at 0x1a175470>"
       ]
      }
     ],
     "prompt_number": 64
    },
    {
     "cell_type": "code",
     "collapsed": false,
     "input": [],
     "language": "python",
     "metadata": {},
     "outputs": []
    }
   ],
   "metadata": {}
  }
 ]
}