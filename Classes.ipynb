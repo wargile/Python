{
 "metadata": {
  "name": "",
  "signature": "sha256:def81db18c95c86889de1d3bb2df84fd123f07daafb6a601063994afd5e6ae37"
 },
 "nbformat": 3,
 "nbformat_minor": 0,
 "worksheets": [
  {
   "cells": [
    {
     "cell_type": "code",
     "collapsed": false,
     "input": [
      "class BalleKlorin:\n",
      "    balleklorin = 200\n",
      "    more_balleklorin = -4\n",
      "    is_balleklorin_ready = True\n",
      "    the_balleklorin_dict = {}\n",
      "    \n",
      "    def init(self, multiply):\n",
      "        self.balleklorin *= multiply\n",
      "        self.more_balleklorin -= 10\n",
      "        return self.balleklorin\n",
      "\n",
      "    def get_balleklorin(self):\n",
      "        if self.is_balleklorin_ready:\n",
      "            return self.balleklorin * self.more_balleklorin\n",
      "        else:\n",
      "            return 0\n",
      "\n",
      "b = BalleKlorin()\n",
      "b.init(22.1575)\n",
      "print(b.balleklorin)\n",
      "print(b.get_balleklorin())\n",
      "print(BalleKlorin().balleklorin)"
     ],
     "language": "python",
     "metadata": {},
     "outputs": [
      {
       "output_type": "stream",
       "stream": "stdout",
       "text": [
        "4431.5\n",
        "-62041.0\n",
        "200\n"
       ]
      }
     ],
     "prompt_number": 28
    },
    {
     "cell_type": "code",
     "collapsed": false,
     "input": [
      "mygenerator = (x*x for x in range(3))\n",
      "for i in mygenerator:\n",
      "    print i\n",
      "    "
     ],
     "language": "python",
     "metadata": {},
     "outputs": [
      {
       "output_type": "stream",
       "stream": "stdout",
       "text": [
        "0\n",
        "1\n",
        "4\n"
       ]
      }
     ],
     "prompt_number": 29
    },
    {
     "cell_type": "code",
     "collapsed": false,
     "input": [
      "for i in mygenerator:\n",
      "    print i\n",
      "# Does not work, it's a generator, so it's \"used up\"!"
     ],
     "language": "python",
     "metadata": {},
     "outputs": [],
     "prompt_number": 30
    },
    {
     "cell_type": "code",
     "collapsed": false,
     "input": [
      "myiterator = [x*x for x in range(3)]\n",
      "for i in myiterator:\n",
      "    print i\n",
      "for p in myiterator:\n",
      "    print p\n",
      "# Can be called several times, unlike generator!"
     ],
     "language": "python",
     "metadata": {},
     "outputs": [
      {
       "output_type": "stream",
       "stream": "stdout",
       "text": [
        "0\n",
        "1\n",
        "4\n",
        "0\n",
        "1\n",
        "4\n"
       ]
      }
     ],
     "prompt_number": 31
    },
    {
     "cell_type": "code",
     "collapsed": false,
     "input": [
      "# Using yield\n",
      "def f123():\n",
      "    print(\"Before yield 1...\")\n",
      "    yield 1\n",
      "    print(\"Now 1 is yielded!\")\n",
      "    print(\"Before yield 2...\")\n",
      "    yield 2\n",
      "    print(\"Now 2 is yielded!\")\n",
      "    print(\"Before yield 3...\")\n",
      "    yield 3\n",
      "    print(\"Now 3 is yielded!\")\n",
      "    print(\"This is the end!\")\n",
      " \n",
      "for item in f123():\n",
      "    print item\n"
     ],
     "language": "python",
     "metadata": {},
     "outputs": [
      {
       "output_type": "stream",
       "stream": "stdout",
       "text": [
        "Before yield 1...\n",
        "1\n",
        "Now 1 is yielded!\n",
        "Before yield 2...\n",
        "2\n",
        "Now 2 is yielded!\n",
        "Before yield 3...\n",
        "3\n",
        "Now 3 is yielded!\n",
        "This is the end!\n"
       ]
      }
     ],
     "prompt_number": 35
    },
    {
     "cell_type": "code",
     "collapsed": false,
     "input": [
      "a = {}\n",
      "a['Balle'] = 22\n",
      "a['Skalle'] = -155.23\n",
      "x = 'Balle'\n",
      "if x in a:\n",
      "    a[x] *= 2\n",
      "    a['Skalle'] *= -1\n",
      "    \n",
      "a"
     ],
     "language": "python",
     "metadata": {},
     "outputs": [
      {
       "metadata": {},
       "output_type": "pyout",
       "prompt_number": 19,
       "text": [
        "{'Balle': 44, 'Skalle': 155.23}"
       ]
      }
     ],
     "prompt_number": 19
    },
    {
     "cell_type": "code",
     "collapsed": false,
     "input": [
      "a = ['Mine', 'Yours', 'Ours']\n",
      "a.pop(0)\n",
      "a.append('Theirs')\n",
      "a"
     ],
     "language": "python",
     "metadata": {},
     "outputs": [
      {
       "metadata": {},
       "output_type": "pyout",
       "prompt_number": 25,
       "text": [
        "['Yours', 'Ours', 'Theirs']"
       ]
      }
     ],
     "prompt_number": 25
    },
    {
     "cell_type": "code",
     "collapsed": false,
     "input": [],
     "language": "python",
     "metadata": {},
     "outputs": []
    }
   ],
   "metadata": {}
  }
 ]
}