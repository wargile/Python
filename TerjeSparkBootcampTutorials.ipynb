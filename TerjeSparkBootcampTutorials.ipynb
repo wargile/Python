{
 "metadata": {
  "name": "",
  "signature": "sha256:25b207c2dde53c2ed59442595dd18ca58b097feea6b06e33ff29f5a043472368"
 },
 "nbformat": 3,
 "nbformat_minor": 0,
 "worksheets": [
  {
   "cells": [
    {
     "cell_type": "code",
     "collapsed": false,
     "input": [
      "\"\"\"\n",
      "Spark Bootcamp Tutorials\n",
      "Testing iPython Notebooks on Spark instance running on local PC\n",
      "\n",
      "http://ampcamp.berkeley.edu/5/exercises/getting-started.html\n",
      "http://ampcamp.berkeley.edu/5/exercises/data-exploration-using-spark.html\n",
      "\"\"\"\n",
      "\n",
      "import os\n",
      "#import sys\n",
      "import glob\n",
      "import re\n",
      "import math\n",
      "import matplotlib.pyplot as plt # http://matplotlib.org/users/customizing.html\n",
      "#import operator\n",
      "from operator import add\n",
      "from pyspark import SparkContext, SparkConf\n",
      "from pyspark.sql import SQLContext, Row\n",
      "from pyspark.sql.types import *\n",
      "#from ast import literal_eval\n",
      "\n",
      "%matplotlib inline\n",
      "\n",
      "spark_home = os.environ.get('SPARK_HOME', None)\n",
      "print('SPARK initialized OK! The SPARK home directory is: ' + spark_home)"
     ],
     "language": "python",
     "metadata": {},
     "outputs": [
      {
       "output_type": "stream",
       "stream": "stdout",
       "text": [
        "SPARK initialized OK! The SPARK home directory is: c:\\spark\n"
       ]
      }
     ],
     "prompt_number": 1
    },
    {
     "cell_type": "code",
     "collapsed": false,
     "input": [
      "pagecounts = sc.textFile(\"c:/spark/data/training-downloads/data/pagecounts\")\n",
      "print pagecounts.count() # 1398882\n",
      "#pagecounts.take(5)"
     ],
     "language": "python",
     "metadata": {},
     "outputs": [
      {
       "output_type": "stream",
       "stream": "stdout",
       "text": [
        "1398882\n"
       ]
      }
     ],
     "prompt_number": 13
    },
    {
     "cell_type": "code",
     "collapsed": false,
     "input": [
      "enPages = pagecounts.filter(lambda x: x.split(\" \")[1] == \"en\").cache()\n",
      "print enPages.count()"
     ],
     "language": "python",
     "metadata": {},
     "outputs": [
      {
       "output_type": "stream",
       "stream": "stdout",
       "text": [
        "970545\n"
       ]
      }
     ],
     "prompt_number": 14
    },
    {
     "cell_type": "code",
     "collapsed": false,
     "input": [],
     "language": "python",
     "metadata": {},
     "outputs": []
    }
   ],
   "metadata": {}
  }
 ]
}