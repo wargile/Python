{
 "metadata": {
  "name": "",
  "signature": "sha256:0ad2dc79881b1ed486fb38a8cef749633ae5325bf0eb06a2c6a49866c15f2fb6"
 },
 "nbformat": 3,
 "nbformat_minor": 0,
 "worksheets": [
  {
   "cells": [
    {
     "cell_type": "code",
     "collapsed": false,
     "input": [
      "from cassandra.cluster import Cluster\n",
      "cluster = Cluster()\n",
      "session = cluster.connect('Weather_data') # NOTE: \"\" not needed here as in a CQL statement\n",
      "session.execute('USE \"Weather_data\"') # NOTE: But here we need 'em in the CQL statement\n",
      "rows = session.execute('SELECT event_time, temperature FROM temperature WHERE weatherstation_id=\\'1234ABCD\\';')\n",
      "\n",
      "for user_row in rows:\n",
      "    print user_row.event_time, user_row.temperature # Nice...\n"
     ],
     "language": "python",
     "metadata": {},
     "outputs": [
      {
       "output_type": "stream",
       "stream": "stderr",
       "text": [
        "C:\\Python27\\lib\\site-packages\\cassandra\\util.py:360: UserWarning: The blist library is not available, so a pure python list-based set will be used in place of blist.sortedset for set collection values. You can find the blist library here: https://pypi.python.org/pypi/blist/\n",
        "  \"The blist library is not available, so a pure python list-based set will \"\n",
        "WARNING:cassandra.cluster:[control connection] Error connecting to 127.0.0.1:\n",
        "Traceback (most recent call last):\n",
        "  File \"C:\\Python27\\lib\\site-packages\\cassandra\\cluster.py\", line 1770, in _reconnect_internal\n",
        "    return self._try_connect(host)\n",
        "  File \"C:\\Python27\\lib\\site-packages\\cassandra\\cluster.py\", line 1787, in _try_connect\n",
        "    connection = self._cluster.connection_factory(host.address, is_control_connection=True)\n",
        "  File \"C:\\Python27\\lib\\site-packages\\cassandra\\cluster.py\", line 645, in connection_factory\n",
        "    return self.connection_class.factory(address, *args, **kwargs)\n",
        "  File \"C:\\Python27\\lib\\site-packages\\cassandra\\io\\asyncorereactor.py\", line 162, in factory\n",
        "    conn = cls(*args, **kwargs)\n",
        "  File \"C:\\Python27\\lib\\site-packages\\cassandra\\io\\asyncorereactor.py\", line 189, in __init__\n",
        "    self.connect(sockaddr)\n",
        "  File \"C:\\Python27\\lib\\site-packages\\cassandra\\io\\asyncorereactor.py\", line 236, in connect\n",
        "    raise ConnectionException(\"Timed out connecting to %s\" % (address[0]))\n",
        "ConnectionException: Timed out connecting to 127.0.0.1\n"
       ]
      },
      {
       "output_type": "stream",
       "stream": "stderr",
       "text": [
        "WARNING:cassandra.cluster:Host 127.0.0.1 has been marked down\n",
        "ERROR:cassandra.cluster:Control connection failed to connect, shutting down Cluster:\n",
        "Traceback (most recent call last):\n",
        "  File \"C:\\Python27\\lib\\site-packages\\cassandra\\cluster.py\", line 692, in connect\n",
        "    self.control_connection.connect()\n",
        "  File \"C:\\Python27\\lib\\site-packages\\cassandra\\cluster.py\", line 1744, in connect\n",
        "    self._set_new_connection(self._reconnect_internal())\n",
        "  File \"C:\\Python27\\lib\\site-packages\\cassandra\\cluster.py\", line 1779, in _reconnect_internal\n",
        "    raise NoHostAvailable(\"Unable to connect to any servers\", errors)\n",
        "NoHostAvailable: ('Unable to connect to any servers', {'127.0.0.1': ConnectionException('Timed out connecting to 127.0.0.1',)})\n"
       ]
      },
      {
       "ename": "NoHostAvailable",
       "evalue": "('Unable to connect to any servers', {'127.0.0.1': ConnectionException('Timed out connecting to 127.0.0.1',)})",
       "output_type": "pyerr",
       "traceback": [
        "\u001b[1;31m---------------------------------------------------------------------------\u001b[0m\n\u001b[1;31mNoHostAvailable\u001b[0m                           Traceback (most recent call last)",
        "\u001b[1;32m<ipython-input-1-7a6b785b44a9>\u001b[0m in \u001b[0;36m<module>\u001b[1;34m()\u001b[0m\n\u001b[0;32m      1\u001b[0m \u001b[1;32mfrom\u001b[0m \u001b[0mcassandra\u001b[0m\u001b[1;33m.\u001b[0m\u001b[0mcluster\u001b[0m \u001b[1;32mimport\u001b[0m \u001b[0mCluster\u001b[0m\u001b[1;33m\u001b[0m\u001b[0m\n\u001b[0;32m      2\u001b[0m \u001b[0mcluster\u001b[0m \u001b[1;33m=\u001b[0m \u001b[0mCluster\u001b[0m\u001b[1;33m(\u001b[0m\u001b[1;33m)\u001b[0m\u001b[1;33m\u001b[0m\u001b[0m\n\u001b[1;32m----> 3\u001b[1;33m \u001b[0msession\u001b[0m \u001b[1;33m=\u001b[0m \u001b[0mcluster\u001b[0m\u001b[1;33m.\u001b[0m\u001b[0mconnect\u001b[0m\u001b[1;33m(\u001b[0m\u001b[1;34m'Weather_data'\u001b[0m\u001b[1;33m)\u001b[0m \u001b[1;31m# NOTE: \"\" not needed here as in a CQL statement\u001b[0m\u001b[1;33m\u001b[0m\u001b[0m\n\u001b[0m\u001b[0;32m      4\u001b[0m \u001b[0msession\u001b[0m\u001b[1;33m.\u001b[0m\u001b[0mexecute\u001b[0m\u001b[1;33m(\u001b[0m\u001b[1;34m'USE \"Weather_data\"'\u001b[0m\u001b[1;33m)\u001b[0m \u001b[1;31m# NOTE: But here we need 'em in the CQL statement\u001b[0m\u001b[1;33m\u001b[0m\u001b[0m\n\u001b[0;32m      5\u001b[0m \u001b[0mrows\u001b[0m \u001b[1;33m=\u001b[0m \u001b[0msession\u001b[0m\u001b[1;33m.\u001b[0m\u001b[0mexecute\u001b[0m\u001b[1;33m(\u001b[0m\u001b[1;34m'SELECT event_time, temperature FROM temperature WHERE weatherstation_id=\\'1234ABCD\\';'\u001b[0m\u001b[1;33m)\u001b[0m\u001b[1;33m\u001b[0m\u001b[0m\n",
        "\u001b[1;32mC:\\Python27\\lib\\site-packages\\cassandra\\cluster.pyc\u001b[0m in \u001b[0;36mconnect\u001b[1;34m(self, keyspace)\u001b[0m\n\u001b[0;32m    690\u001b[0m                 \u001b[1;32mif\u001b[0m \u001b[0mself\u001b[0m\u001b[1;33m.\u001b[0m\u001b[0mcontrol_connection\u001b[0m\u001b[1;33m:\u001b[0m\u001b[1;33m\u001b[0m\u001b[0m\n\u001b[0;32m    691\u001b[0m                     \u001b[1;32mtry\u001b[0m\u001b[1;33m:\u001b[0m\u001b[1;33m\u001b[0m\u001b[0m\n\u001b[1;32m--> 692\u001b[1;33m                         \u001b[0mself\u001b[0m\u001b[1;33m.\u001b[0m\u001b[0mcontrol_connection\u001b[0m\u001b[1;33m.\u001b[0m\u001b[0mconnect\u001b[0m\u001b[1;33m(\u001b[0m\u001b[1;33m)\u001b[0m\u001b[1;33m\u001b[0m\u001b[0m\n\u001b[0m\u001b[0;32m    693\u001b[0m                         \u001b[0mlog\u001b[0m\u001b[1;33m.\u001b[0m\u001b[0mdebug\u001b[0m\u001b[1;33m(\u001b[0m\u001b[1;34m\"Control connection created\"\u001b[0m\u001b[1;33m)\u001b[0m\u001b[1;33m\u001b[0m\u001b[0m\n\u001b[0;32m    694\u001b[0m                     \u001b[1;32mexcept\u001b[0m \u001b[0mException\u001b[0m\u001b[1;33m:\u001b[0m\u001b[1;33m\u001b[0m\u001b[0m\n",
        "\u001b[1;32mC:\\Python27\\lib\\site-packages\\cassandra\\cluster.pyc\u001b[0m in \u001b[0;36mconnect\u001b[1;34m(self)\u001b[0m\n\u001b[0;32m   1742\u001b[0m \u001b[1;33m\u001b[0m\u001b[0m\n\u001b[0;32m   1743\u001b[0m         \u001b[0mself\u001b[0m\u001b[1;33m.\u001b[0m\u001b[0m_protocol_version\u001b[0m \u001b[1;33m=\u001b[0m \u001b[0mself\u001b[0m\u001b[1;33m.\u001b[0m\u001b[0m_cluster\u001b[0m\u001b[1;33m.\u001b[0m\u001b[0mprotocol_version\u001b[0m\u001b[1;33m\u001b[0m\u001b[0m\n\u001b[1;32m-> 1744\u001b[1;33m         \u001b[0mself\u001b[0m\u001b[1;33m.\u001b[0m\u001b[0m_set_new_connection\u001b[0m\u001b[1;33m(\u001b[0m\u001b[0mself\u001b[0m\u001b[1;33m.\u001b[0m\u001b[0m_reconnect_internal\u001b[0m\u001b[1;33m(\u001b[0m\u001b[1;33m)\u001b[0m\u001b[1;33m)\u001b[0m\u001b[1;33m\u001b[0m\u001b[0m\n\u001b[0m\u001b[0;32m   1745\u001b[0m \u001b[1;33m\u001b[0m\u001b[0m\n\u001b[0;32m   1746\u001b[0m     \u001b[1;32mdef\u001b[0m \u001b[0m_set_new_connection\u001b[0m\u001b[1;33m(\u001b[0m\u001b[0mself\u001b[0m\u001b[1;33m,\u001b[0m \u001b[0mconn\u001b[0m\u001b[1;33m)\u001b[0m\u001b[1;33m:\u001b[0m\u001b[1;33m\u001b[0m\u001b[0m\n",
        "\u001b[1;32mC:\\Python27\\lib\\site-packages\\cassandra\\cluster.pyc\u001b[0m in \u001b[0;36m_reconnect_internal\u001b[1;34m(self)\u001b[0m\n\u001b[0;32m   1777\u001b[0m                 \u001b[0mlog\u001b[0m\u001b[1;33m.\u001b[0m\u001b[0mwarning\u001b[0m\u001b[1;33m(\u001b[0m\u001b[1;34m\"[control connection] Error connecting to %s:\"\u001b[0m\u001b[1;33m,\u001b[0m \u001b[0mhost\u001b[0m\u001b[1;33m,\u001b[0m \u001b[0mexc_info\u001b[0m\u001b[1;33m=\u001b[0m\u001b[0mTrue\u001b[0m\u001b[1;33m)\u001b[0m\u001b[1;33m\u001b[0m\u001b[0m\n\u001b[0;32m   1778\u001b[0m \u001b[1;33m\u001b[0m\u001b[0m\n\u001b[1;32m-> 1779\u001b[1;33m         \u001b[1;32mraise\u001b[0m \u001b[0mNoHostAvailable\u001b[0m\u001b[1;33m(\u001b[0m\u001b[1;34m\"Unable to connect to any servers\"\u001b[0m\u001b[1;33m,\u001b[0m \u001b[0merrors\u001b[0m\u001b[1;33m)\u001b[0m\u001b[1;33m\u001b[0m\u001b[0m\n\u001b[0m\u001b[0;32m   1780\u001b[0m \u001b[1;33m\u001b[0m\u001b[0m\n\u001b[0;32m   1781\u001b[0m     \u001b[1;32mdef\u001b[0m \u001b[0m_try_connect\u001b[0m\u001b[1;33m(\u001b[0m\u001b[0mself\u001b[0m\u001b[1;33m,\u001b[0m \u001b[0mhost\u001b[0m\u001b[1;33m)\u001b[0m\u001b[1;33m:\u001b[0m\u001b[1;33m\u001b[0m\u001b[0m\n",
        "\u001b[1;31mNoHostAvailable\u001b[0m: ('Unable to connect to any servers', {'127.0.0.1': ConnectionException('Timed out connecting to 127.0.0.1',)})"
       ]
      }
     ],
     "prompt_number": 1
    },
    {
     "cell_type": "code",
     "collapsed": false,
     "input": [],
     "language": "python",
     "metadata": {},
     "outputs": []
    }
   ],
   "metadata": {}
  }
 ]
}