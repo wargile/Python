{
 "metadata": {
  "name": "",
  "signature": "sha256:083f17620d66e65143b117908f5a2473e7d621dfd0a3086ce90261c93cfc32ae"
 },
 "nbformat": 3,
 "nbformat_minor": 0,
 "worksheets": [
  {
   "cells": [
    {
     "cell_type": "code",
     "collapsed": false,
     "input": [
      "import datetime\n",
      "import numpy as np\n",
      "import matplotlib.pyplot as plt\n",
      "import matplotlib.cbook as cbook\n",
      "import matplotlib.dates as mdates\n",
      "\n",
      "datafile = cbook.get_sample_data('goog.npy')\n",
      "r = np.load(datafile).view(np.recarray)\n",
      "\n",
      "%matplotlib inline"
     ],
     "language": "python",
     "metadata": {},
     "outputs": [],
     "prompt_number": 1
    },
    {
     "cell_type": "code",
     "collapsed": false,
     "input": [
      "years    = mdates.YearLocator()   # every year\n",
      "months   = mdates.MonthLocator()  # every month\n",
      "yearsFmt = mdates.DateFormatter('%Y')\n",
      "\n",
      "# load a numpy record array from yahoo csv data with fields date,\n",
      "# open, close, volume, adj_close from the mpl-data/example directory.\n",
      "# The record array stores python datetime.date as an object array in\n",
      "# the date column\n",
      "datafile = cbook.get_sample_data('goog.npy')\n",
      "#print datafile # print to show the path\n",
      "r = np.load(datafile).view(np.recarray)\n",
      "\n",
      "fig, ax = plt.subplots()\n",
      "ax.plot(r.date, r.adj_close)\n",
      "\n",
      "# format the ticks\n",
      "ax.xaxis.set_major_locator(years)\n",
      "ax.xaxis.set_major_formatter(yearsFmt)\n",
      "ax.xaxis.set_minor_locator(months)\n",
      "\n",
      "datemin = datetime.date(r.date.min().year, 1, 1)\n",
      "datemax = datetime.date(r.date.max().year + 1, 1, 1)\n",
      "ax.set_xlim(datemin, datemax)\n",
      "\n",
      "# format the coords message box\n",
      "def price(x): return '$%1.2f' % x\n",
      "ax.format_xdata = mdates.DateFormatter('%Y-%m-%d')\n",
      "ax.format_ydata = price\n",
      "ax.grid(True)\n",
      "\n",
      "# rotates and right aligns the x labels, and moves the bottom of the\n",
      "# axes up to make room for them\n",
      "fig.autofmt_xdate()\n",
      "\n",
      "plt.title('Just testing some stuff....')\n",
      "plt.show()"
     ],
     "language": "python",
     "metadata": {},
     "outputs": [
      {
       "metadata": {},
       "output_type": "display_data",
       "png": "[encoded data removed]",
       "text": [
        "<matplotlib.figure.Figure at 0xccc31d0>"
       ]
      }
     ],
     "prompt_number": 14
    },
    {
     "cell_type": "code",
     "collapsed": false,
     "input": [
      "import nltk\n",
      "# http://www.nltk.org/index.html"
     ],
     "language": "python",
     "metadata": {},
     "outputs": [],
     "prompt_number": 1
    },
    {
     "cell_type": "code",
     "collapsed": false,
     "input": [
      "sentence = 'At eight o\\'clock on Thursday morning Arthur didn\\'t feel very good.'\n",
      "tokens = nltk.word_tokenize(sentence)\n",
      "print format('Tokens: %s\\n' % tokens)\n",
      "#nltk.download() # Needed for tagger\n",
      "#tagged = nltk.pos_tag(tokens)\n",
      "#tagged[0:10]"
     ],
     "language": "python",
     "metadata": {},
     "outputs": [
      {
       "output_type": "stream",
       "stream": "stdout",
       "text": [
        "Tokens: ['At', 'eight', \"o'clock\", 'on', 'Thursday', 'morning', 'Arthur', 'did', \"n't\", 'feel', 'very', 'good', '.']\n",
        "\n"
       ]
      }
     ],
     "prompt_number": 4
    },
    {
     "cell_type": "code",
     "collapsed": false,
     "input": [
      "# Create a CSV parser to infer schema and create SQL statements\n",
      "# TODO: Create a parser for various field types (can vary by DB)?\n",
      "import os\n",
      "import ntpath\n",
      "\n",
      "# Change location if needed\n",
      "location = 'C:/coding/Kaggle/CaterpillarTubePricing/Data/data/competition_data/'\n",
      "files = os.listdir(location)\n",
      "# Change delimiter if needed\n",
      "delimiter = ','\n",
      "\n",
      "with open('{0}scripts_out.sql'.format(location), 'wb') as outfile:\n",
      "    outfile.write('-- SQL script created with ScriptCreator 0.2 -- Copyright (c) TBAK 2015\\n')\n",
      "    for f in files:\n",
      "        if f.endswith('.csv'):\n",
      "            with open('{0}{1}'.format(location, f), 'rb') as f:\n",
      "                table_name = ntpath.basename(f.name).split('.')[0]\n",
      "                \n",
      "                for e, line in enumerate(f):\n",
      "                    if e == 0:\n",
      "                        # Get header and keep field names\n",
      "                        header_line = line.strip().split(delimiter)\n",
      "                        break\n",
      "                \n",
      "                sql_statements = [x.strip() + ' varchar' for x in header_line]\n",
      "                \n",
      "                outfile.write(('-' * 160) + '\\nDROP TABLE IF EXISTS ' + table_name + ';\\n' )\n",
      "                outfile.write('CREATE TABLE ' + table_name + '(' + ', '.join(sql_statements) + ');\\n')\n",
      "                outfile.write('DROP INDEX IF EXISTS i_' + table_name + header_line[0] + ';\\n')\n",
      "                outfile.write('CREATE INDEX i_' + table_name + '_' + header_line[0] + ' ON ' + table_name + \\\n",
      "                              '(' + header_line[0] + ');\\n')\n",
      "                outfile.write('COPY ' + table_name + ' FROM \\'' + f.name + '\\' DELIMITER \\',\\' HEADER CSV;\\n')\n",
      "\n",
      "print 'All done!'"
     ],
     "language": "python",
     "metadata": {},
     "outputs": [
      {
       "output_type": "stream",
       "stream": "stdout",
       "text": [
        "All done!\n"
       ]
      }
     ],
     "prompt_number": 22
    },
    {
     "cell_type": "code",
     "collapsed": false,
     "input": [
      "# Example: Use pandas, merge CSV-files on common column:\n",
      "# http://pandas.pydata.org/pandas-docs/stable/merging.html\n",
      "import pandas as pd\n",
      "train_set = pd.read_csv(location + 'train_set.csv')\n",
      "tube = pd.read_csv(location + 'tube.csv')\n",
      "#train_set.head(n=2)\n",
      "#tube.head(n=2)\n",
      "train_set_tube = pd.merge(train_set, tube, how='inner', on='tube_assembly_id')\n",
      "train_set_tube.head(n=2)"
     ],
     "language": "python",
     "metadata": {},
     "outputs": [
      {
       "html": [
        "<div style=\"max-height:1000px;max-width:1500px;overflow:auto;\">\n",
        "<table border=\"1\" class=\"dataframe\">\n",
        "  <thead>\n",
        "    <tr style=\"text-align: right;\">\n",
        "      <th></th>\n",
        "      <th>tube_assembly_id</th>\n",
        "      <th>supplier</th>\n",
        "      <th>quote_date</th>\n",
        "      <th>annual_usage</th>\n",
        "      <th>min_order_quantity</th>\n",
        "      <th>bracket_pricing</th>\n",
        "      <th>quantity</th>\n",
        "      <th>cost</th>\n",
        "      <th>material_id</th>\n",
        "      <th>diameter</th>\n",
        "      <th>...</th>\n",
        "      <th>bend_radius</th>\n",
        "      <th>end_a_1x</th>\n",
        "      <th>end_a_2x</th>\n",
        "      <th>end_x_1x</th>\n",
        "      <th>end_x_2x</th>\n",
        "      <th>end_a</th>\n",
        "      <th>end_x</th>\n",
        "      <th>num_boss</th>\n",
        "      <th>num_bracket</th>\n",
        "      <th>other</th>\n",
        "    </tr>\n",
        "  </thead>\n",
        "  <tbody>\n",
        "    <tr>\n",
        "      <th>0</th>\n",
        "      <td> TA-00002</td>\n",
        "      <td> S-0066</td>\n",
        "      <td> 2013-07-07</td>\n",
        "      <td> 0</td>\n",
        "      <td> 0</td>\n",
        "      <td> Yes</td>\n",
        "      <td> 1</td>\n",
        "      <td> 21.905933</td>\n",
        "      <td> SP-0019</td>\n",
        "      <td> 6.35</td>\n",
        "      <td>...</td>\n",
        "      <td> 19.05</td>\n",
        "      <td> N</td>\n",
        "      <td> N</td>\n",
        "      <td> N</td>\n",
        "      <td> N</td>\n",
        "      <td> EF-008</td>\n",
        "      <td> EF-008</td>\n",
        "      <td> 0</td>\n",
        "      <td> 0</td>\n",
        "      <td> 0</td>\n",
        "    </tr>\n",
        "    <tr>\n",
        "      <th>1</th>\n",
        "      <td> TA-00002</td>\n",
        "      <td> S-0066</td>\n",
        "      <td> 2013-07-07</td>\n",
        "      <td> 0</td>\n",
        "      <td> 0</td>\n",
        "      <td> Yes</td>\n",
        "      <td> 2</td>\n",
        "      <td> 12.341214</td>\n",
        "      <td> SP-0019</td>\n",
        "      <td> 6.35</td>\n",
        "      <td>...</td>\n",
        "      <td> 19.05</td>\n",
        "      <td> N</td>\n",
        "      <td> N</td>\n",
        "      <td> N</td>\n",
        "      <td> N</td>\n",
        "      <td> EF-008</td>\n",
        "      <td> EF-008</td>\n",
        "      <td> 0</td>\n",
        "      <td> 0</td>\n",
        "      <td> 0</td>\n",
        "    </tr>\n",
        "  </tbody>\n",
        "</table>\n",
        "<p>2 rows \u00d7 23 columns</p>\n",
        "</div>"
       ],
       "metadata": {},
       "output_type": "pyout",
       "prompt_number": 23,
       "text": [
        "  tube_assembly_id supplier  quote_date  annual_usage  min_order_quantity  \\\n",
        "0         TA-00002   S-0066  2013-07-07             0                   0   \n",
        "1         TA-00002   S-0066  2013-07-07             0                   0   \n",
        "\n",
        "  bracket_pricing  quantity       cost material_id  diameter    ...     \\\n",
        "0             Yes         1  21.905933     SP-0019      6.35    ...      \n",
        "1             Yes         2  12.341214     SP-0019      6.35    ...      \n",
        "\n",
        "   bend_radius  end_a_1x  end_a_2x  end_x_1x end_x_2x   end_a   end_x  \\\n",
        "0        19.05         N         N         N        N  EF-008  EF-008   \n",
        "1        19.05         N         N         N        N  EF-008  EF-008   \n",
        "\n",
        "  num_boss num_bracket other  \n",
        "0        0           0     0  \n",
        "1        0           0     0  \n",
        "\n",
        "[2 rows x 23 columns]"
       ]
      }
     ],
     "prompt_number": 23
    },
    {
     "cell_type": "code",
     "collapsed": false,
     "input": [
      "print train_set_tube.shape"
     ],
     "language": "python",
     "metadata": {},
     "outputs": [
      {
       "output_type": "stream",
       "stream": "stdout",
       "text": [
        "(30213, 23)\n"
       ]
      }
     ],
     "prompt_number": 20
    },
    {
     "cell_type": "code",
     "collapsed": false,
     "input": [
      "train_set_tube[train_set_tube.cost > 800.0]"
     ],
     "language": "python",
     "metadata": {},
     "outputs": [
      {
       "html": [
        "<div style=\"max-height:1000px;max-width:1500px;overflow:auto;\">\n",
        "<table border=\"1\" class=\"dataframe\">\n",
        "  <thead>\n",
        "    <tr style=\"text-align: right;\">\n",
        "      <th></th>\n",
        "      <th>tube_assembly_id</th>\n",
        "      <th>supplier</th>\n",
        "      <th>quote_date</th>\n",
        "      <th>annual_usage</th>\n",
        "      <th>min_order_quantity</th>\n",
        "      <th>bracket_pricing</th>\n",
        "      <th>quantity</th>\n",
        "      <th>cost</th>\n",
        "      <th>material_id</th>\n",
        "      <th>diameter</th>\n",
        "      <th>...</th>\n",
        "      <th>bend_radius</th>\n",
        "      <th>end_a_1x</th>\n",
        "      <th>end_a_2x</th>\n",
        "      <th>end_x_1x</th>\n",
        "      <th>end_x_2x</th>\n",
        "      <th>end_a</th>\n",
        "      <th>end_x</th>\n",
        "      <th>num_boss</th>\n",
        "      <th>num_bracket</th>\n",
        "      <th>other</th>\n",
        "    </tr>\n",
        "  </thead>\n",
        "  <tbody>\n",
        "    <tr>\n",
        "      <th>8666 </th>\n",
        "      <td> TA-04958</td>\n",
        "      <td> S-0026</td>\n",
        "      <td> 2008-07-08</td>\n",
        "      <td> 1</td>\n",
        "      <td> 1</td>\n",
        "      <td> No</td>\n",
        "      <td> 1</td>\n",
        "      <td>  848.099575</td>\n",
        "      <td> SP-0046</td>\n",
        "      <td> 42.7</td>\n",
        "      <td>...</td>\n",
        "      <td> 110</td>\n",
        "      <td> N</td>\n",
        "      <td> N</td>\n",
        "      <td> N</td>\n",
        "      <td> N</td>\n",
        "      <td> EF-021</td>\n",
        "      <td> EF-021</td>\n",
        "      <td> 0</td>\n",
        "      <td> 0</td>\n",
        "      <td> 0</td>\n",
        "    </tr>\n",
        "    <tr>\n",
        "      <th>10364</th>\n",
        "      <td> TA-06161</td>\n",
        "      <td> S-0026</td>\n",
        "      <td> 2008-06-23</td>\n",
        "      <td> 1</td>\n",
        "      <td> 1</td>\n",
        "      <td> No</td>\n",
        "      <td> 1</td>\n",
        "      <td> 1000.000000</td>\n",
        "      <td> SP-0046</td>\n",
        "      <td> 42.7</td>\n",
        "      <td>...</td>\n",
        "      <td> 110</td>\n",
        "      <td> N</td>\n",
        "      <td> N</td>\n",
        "      <td> N</td>\n",
        "      <td> Y</td>\n",
        "      <td> EF-021</td>\n",
        "      <td> EF-021</td>\n",
        "      <td> 0</td>\n",
        "      <td> 0</td>\n",
        "      <td> 1</td>\n",
        "    </tr>\n",
        "    <tr>\n",
        "      <th>24957</th>\n",
        "      <td> TA-19080</td>\n",
        "      <td> S-0026</td>\n",
        "      <td> 2008-07-08</td>\n",
        "      <td> 2</td>\n",
        "      <td> 1</td>\n",
        "      <td> No</td>\n",
        "      <td> 1</td>\n",
        "      <td>  930.676652</td>\n",
        "      <td> SP-0046</td>\n",
        "      <td> 42.7</td>\n",
        "      <td>...</td>\n",
        "      <td> 110</td>\n",
        "      <td> N</td>\n",
        "      <td> N</td>\n",
        "      <td> N</td>\n",
        "      <td> N</td>\n",
        "      <td> EF-021</td>\n",
        "      <td> EF-021</td>\n",
        "      <td> 0</td>\n",
        "      <td> 0</td>\n",
        "      <td> 0</td>\n",
        "    </tr>\n",
        "  </tbody>\n",
        "</table>\n",
        "<p>3 rows \u00d7 23 columns</p>\n",
        "</div>"
       ],
       "metadata": {},
       "output_type": "pyout",
       "prompt_number": 24,
       "text": [
        "      tube_assembly_id supplier  quote_date  annual_usage  min_order_quantity  \\\n",
        "8666          TA-04958   S-0026  2008-07-08             1                   1   \n",
        "10364         TA-06161   S-0026  2008-06-23             1                   1   \n",
        "24957         TA-19080   S-0026  2008-07-08             2                   1   \n",
        "\n",
        "      bracket_pricing  quantity         cost material_id  diameter    ...     \\\n",
        "8666               No         1   848.099575     SP-0046      42.7    ...      \n",
        "10364              No         1  1000.000000     SP-0046      42.7    ...      \n",
        "24957              No         1   930.676652     SP-0046      42.7    ...      \n",
        "\n",
        "       bend_radius  end_a_1x  end_a_2x  end_x_1x end_x_2x   end_a   end_x  \\\n",
        "8666           110         N         N         N        N  EF-021  EF-021   \n",
        "10364          110         N         N         N        Y  EF-021  EF-021   \n",
        "24957          110         N         N         N        N  EF-021  EF-021   \n",
        "\n",
        "      num_boss num_bracket other  \n",
        "8666         0           0     0  \n",
        "10364        0           0     1  \n",
        "24957        0           0     0  \n",
        "\n",
        "[3 rows x 23 columns]"
       ]
      }
     ],
     "prompt_number": 24
    },
    {
     "cell_type": "code",
     "collapsed": false,
     "input": [
      "for e, word in enumerate(['This','is','sooooooo','cool!']):\n",
      "    print e + 1, word\n",
      "print 'Here we are formatting two numbers and a string: {0:.2f} and {1:d} and \\'{2:s}\\''.format(2.55987, 1000, 'my string')\n",
      "print 'Here we are formatting one number: {0:.9f}'.format(.55987)\n",
      "print 'Here we are formatting %.2f...' % 2.55987 # This is the 'old' method"
     ],
     "language": "python",
     "metadata": {},
     "outputs": [
      {
       "output_type": "stream",
       "stream": "stdout",
       "text": [
        "1 This\n",
        "2 is\n",
        "3 sooooooo\n",
        "4 cool!\n",
        "Here we are formatting two numbers and a string: 2.56 and 1000 and 'my string'\n",
        "Here we are formatting one number: 0.559870000\n",
        "Here we are formatting 2.56...\n"
       ]
      }
     ],
     "prompt_number": 29
    },
    {
     "cell_type": "code",
     "collapsed": false,
     "input": [
      "import numpy as np\n",
      "weights = [0.85, -1.61, 2.13]\n",
      "x = np.random.rand(3, 10)\n",
      "print x\n",
      "np.dot(np.transpose(weights), x)"
     ],
     "language": "python",
     "metadata": {},
     "outputs": [
      {
       "output_type": "stream",
       "stream": "stdout",
       "text": [
        "[[ 0.83782169  0.46625197  0.45544925  0.93232551  0.05336623  0.92288705\n",
        "   0.15041567  0.25597678  0.85180577  0.44772205]\n",
        " [ 0.7285945   0.45841607  0.37355538  0.47796271  0.60773789  0.03985018\n",
        "   0.96980121  0.91767818  0.83726805  0.35104179]\n",
        " [ 0.22810793  0.89930723  0.34746389  0.02707435  0.61846836  0.62769054\n",
        "   0.95193924  0.1415875   0.86869601  0.56803399]]\n"
       ]
      },
      {
       "metadata": {},
       "output_type": "pyout",
       "prompt_number": 11,
       "text": [
        "array([ 0.02498117,  1.57378869,  0.52580578,  0.08062508,  0.38424091,\n",
        "        2.05727605,  0.59410395, -0.95830023,  1.22635585,  1.02529887])"
       ]
      }
     ],
     "prompt_number": 11
    },
    {
     "cell_type": "code",
     "collapsed": false,
     "input": [
      "# Various formatting stuff, etc.\n",
      "a = ['1.23', '2.55']\n",
      "print format('Float conversion of a: %s\\n' % [float(x) for x in a])\n",
      "oldData = [(1.23, 10), (2.22, 15), (4.88, 3)]\n",
      "print oldData\n",
      "x, y = zip(*oldData) # NOTE Syntax!\n",
      "print x\n",
      "print y\n",
      "field_value = '15.55'\n",
      "print '.' not in field_value\n",
      "print 5 % 3.2 # mod syntax\n",
      "\n",
      "# NOTE: \"_\" syntax on return value here. Accumulates/nests endlessly??\n",
      "a = [(1,2),(2,3),(3,4),(4,5)]\n",
      "b = 0.0\n",
      "b = [(x, y) for (x, y) in a]\n",
      "# b = [(_, y) for (x, y) in a]\n",
      "# print 'The output is:\\n{0}'.format(b)\n",
      "b"
     ],
     "language": "python",
     "metadata": {},
     "outputs": [
      {
       "output_type": "stream",
       "stream": "stdout",
       "text": [
        "Float conversion of a: [1.23, 2.55]\n",
        "\n",
        "[(1.23, 10), (2.22, 15), (4.88, 3)]\n",
        "(1.23, 2.22, 4.88)\n",
        "(10, 15, 3)\n",
        "False\n",
        "1.8\n"
       ]
      },
      {
       "metadata": {},
       "output_type": "pyout",
       "prompt_number": 29,
       "text": [
        "[(1, 2), (2, 3), (3, 4), (4, 5)]"
       ]
      }
     ],
     "prompt_number": 29
    },
    {
     "cell_type": "code",
     "collapsed": false,
     "input": [
      "# TODO: Linear Regression tryouts...\n",
      "# https://en.wikipedia.org/wiki/Partial_derivative\n",
      "# https://www.khanacademy.org/math/multivariable-calculus/partial_derivatives_topic\n",
      "# https://www.khanacademy.org/math/multivariable-calculus/partial_derivatives_topic/partial_derivatives/v/partial-derivatives\n"
     ],
     "language": "python",
     "metadata": {},
     "outputs": [],
     "prompt_number": 26
    },
    {
     "cell_type": "code",
     "collapsed": false,
     "input": [
      "def get_field_type(a):\n",
      "    field_type = 'varchar'\n",
      "    try:\n",
      "        if (float(a) % 1 > 0) or ((float(a) % 1 == 0) and ('.' in str(a))):\n",
      "            field_type = 'float'\n",
      "        else:\n",
      "            field_type = 'int'\n",
      "    except:\n",
      "        pass\n",
      "    return field_type\n",
      "\n",
      "a = -15.7855\n",
      "get_field_type(a)"
     ],
     "language": "python",
     "metadata": {},
     "outputs": [
      {
       "metadata": {},
       "output_type": "pyout",
       "prompt_number": 17,
       "text": [
        "'float'"
       ]
      }
     ],
     "prompt_number": 17
    },
    {
     "cell_type": "code",
     "collapsed": false,
     "input": [
      "# Simple class test\n",
      "class Terje:\n",
      "    def __init__(self):\n",
      "        #global counter\n",
      "        self.counter = 0\n",
      "        self.name = 'No name'\n",
      "        \n",
      "    def set_name(self, name='No name'):\n",
      "        #global counter\n",
      "        self.counter += 1\n",
      "        self.name = name\n",
      "\n",
      "    def get_name(self, text='My name is '):\n",
      "        return text + self.name + '!'\n",
      "    \n",
      "    def get_counter(self):\n",
      "        #global counter\n",
      "        return self.counter\n",
      "    \n",
      "    def return_self(self):\n",
      "        return self\n",
      "    \n",
      "    def chained_function(self, array):\n",
      "        def func(element): return element * 10 # Note: sub-function allowed!\n",
      "        return [func(x) for x in array]\n",
      "\n",
      "terje = Terje()\n",
      "print terje.get_name()\n",
      "terje.set_name('Terje')\n",
      "print terje.get_name()\n",
      "terje.set_name('Balle Klorin jr.')\n",
      "print terje.get_name()\n",
      "print 'Counter: ' + str(terje.get_counter())\n",
      "print terje.return_self().counter\n",
      "print terje.chained_function([1,2,3,4,5])"
     ],
     "language": "python",
     "metadata": {},
     "outputs": [
      {
       "output_type": "stream",
       "stream": "stdout",
       "text": [
        "My name is No name!\n",
        "My name is Terje!\n",
        "My name is Balle Klorin jr.!\n",
        "Counter: 2\n",
        "2\n",
        "[10, 20, 30, 40, 50]\n"
       ]
      }
     ],
     "prompt_number": 68
    },
    {
     "cell_type": "code",
     "collapsed": false,
     "input": [
      "import re\n",
      "pattern = re.compile(r'\\.|\\,')\n",
      "if pattern.findall('13.00'):\n",
      "    print 'Pattern found!'\n",
      "else:\n",
      "    print 'Pattern not found!'"
     ],
     "language": "python",
     "metadata": {},
     "outputs": [
      {
       "output_type": "stream",
       "stream": "stdout",
       "text": [
        "Pattern found!\n"
       ]
      }
     ],
     "prompt_number": 38
    },
    {
     "cell_type": "code",
     "collapsed": false,
     "input": [
      "my_dict = {}\n",
      "my_dict[2] = 'Terje'\n",
      "my_dict[0] = 'Balle'\n",
      "my_dict[1] = 'Klorin'\n",
      "my_dict[3] = 'Tracy'\n",
      "print my_dict\n",
      "\n",
      "my_dict_sorted = [(k, v) for k, v in my_dict.iteritems()]\n",
      "print my_dict_sorted\n",
      "\n",
      "dict_keys = [k for k, v in my_dict_sorted]\n",
      "dict_values = [v for k, v in my_dict_sorted]\n",
      "print dict_keys\n",
      "print dict_values"
     ],
     "language": "python",
     "metadata": {},
     "outputs": [
      {
       "output_type": "stream",
       "stream": "stdout",
       "text": [
        "{0: 'Balle', 1: 'Klorin', 2: 'Terje', 3: 'Tracy'}\n",
        "[(0, 'Balle'), (1, 'Klorin'), (2, 'Terje'), (3, 'Tracy')]\n",
        "[0, 1, 2, 3]\n",
        "['Balle', 'Klorin', 'Terje', 'Tracy']\n"
       ]
      }
     ],
     "prompt_number": 15
    },
    {
     "cell_type": "code",
     "collapsed": false,
     "input": [
      "import numpy as np\n",
      "\n",
      "t_ar = np.array(range(20)).reshape([4,5])\n",
      "print 't_ar:\\n{0}'.format(t_ar)\n",
      "print 't_ar:\\n{0}'.format(t_ar[:3][:,1:]) # Get first 3 sub-arrays, from position 1 (note: 0-based) to the end"
     ],
     "language": "python",
     "metadata": {},
     "outputs": [
      {
       "output_type": "stream",
       "stream": "stdout",
       "text": [
        "t_ar:\n",
        "[[ 0  1  2  3  4]\n",
        " [ 5  6  7  8  9]\n",
        " [10 11 12 13 14]\n",
        " [15 16 17 18 19]]\n",
        "t_ar:\n",
        "[[ 1  2  3  4]\n",
        " [ 6  7  8  9]\n",
        " [11 12 13 14]]\n"
       ]
      }
     ],
     "prompt_number": 8
    },
    {
     "cell_type": "code",
     "collapsed": false,
     "input": [
      "data_length = len(t_ar[0])\n",
      "print data_length\n",
      "means = t_ar.mean() #[:data_length]\n",
      "print t_ar - means\n",
      "#correlatedDataZeroMean = t_ar.map(lambda v: v - means)\n",
      "#correlatedDataZeroMean"
     ],
     "language": "python",
     "metadata": {},
     "outputs": [
      {
       "output_type": "stream",
       "stream": "stdout",
       "text": [
        "5\n",
        "[[-9.5 -8.5 -7.5 -6.5 -5.5]\n",
        " [-4.5 -3.5 -2.5 -1.5 -0.5]\n",
        " [ 0.5  1.5  2.5  3.5  4.5]\n",
        " [ 5.5  6.5  7.5  8.5  9.5]]\n"
       ]
      }
     ],
     "prompt_number": 12
    },
    {
     "cell_type": "code",
     "collapsed": false,
     "input": [
      "import numpy as np\n",
      "\n",
      "my_matrix = np.tile(np.array([1,1]*4) * np.eye(8), 2)\n",
      "print my_matrix\n",
      "print my_matrix.shape\n",
      "assert my_array.shape == (8, 18), \"Matrix.shape should be (20, 240)\""
     ],
     "language": "python",
     "metadata": {},
     "outputs": [
      {
       "output_type": "stream",
       "stream": "stdout",
       "text": [
        "[[ 1.  0.  0.  0.  0.  0.  0.  0.  1.  0.  0.  0.  0.  0.  0.  0.]\n",
        " [ 0.  1.  0.  0.  0.  0.  0.  0.  0.  1.  0.  0.  0.  0.  0.  0.]\n",
        " [ 0.  0.  1.  0.  0.  0.  0.  0.  0.  0.  1.  0.  0.  0.  0.  0.]\n",
        " [ 0.  0.  0.  1.  0.  0.  0.  0.  0.  0.  0.  1.  0.  0.  0.  0.]\n",
        " [ 0.  0.  0.  0.  1.  0.  0.  0.  0.  0.  0.  0.  1.  0.  0.  0.]\n",
        " [ 0.  0.  0.  0.  0.  1.  0.  0.  0.  0.  0.  0.  0.  1.  0.  0.]\n",
        " [ 0.  0.  0.  0.  0.  0.  1.  0.  0.  0.  0.  0.  0.  0.  1.  0.]\n",
        " [ 0.  0.  0.  0.  0.  0.  0.  1.  0.  0.  0.  0.  0.  0.  0.  1.]]\n",
        "(8L, 16L)\n"
       ]
      },
      {
       "ename": "AssertionError",
       "evalue": "Error!",
       "output_type": "pyerr",
       "traceback": [
        "\u001b[1;31m---------------------------------------------------------------------------\u001b[0m\n\u001b[1;31mAssertionError\u001b[0m                            Traceback (most recent call last)",
        "\u001b[1;32m<ipython-input-6-abfdc3200563>\u001b[0m in \u001b[0;36m<module>\u001b[1;34m()\u001b[0m\n\u001b[0;32m      4\u001b[0m \u001b[1;32mprint\u001b[0m \u001b[0mmy_matrix\u001b[0m\u001b[1;33m\u001b[0m\u001b[0m\n\u001b[0;32m      5\u001b[0m \u001b[1;32mprint\u001b[0m \u001b[0mmy_matrix\u001b[0m\u001b[1;33m.\u001b[0m\u001b[0mshape\u001b[0m\u001b[1;33m\u001b[0m\u001b[0m\n\u001b[1;32m----> 6\u001b[1;33m \u001b[1;32massert\u001b[0m \u001b[0mmy_array\u001b[0m\u001b[1;33m.\u001b[0m\u001b[0mshape\u001b[0m \u001b[1;33m==\u001b[0m \u001b[1;33m(\u001b[0m\u001b[1;36m8\u001b[0m\u001b[1;33m,\u001b[0m \u001b[1;36m18\u001b[0m\u001b[1;33m)\u001b[0m\u001b[1;33m,\u001b[0m \u001b[1;34m\"Error!\"\u001b[0m\u001b[1;33m\u001b[0m\u001b[0m\n\u001b[0m",
        "\u001b[1;31mAssertionError\u001b[0m: Error!"
       ]
      }
     ],
     "prompt_number": 6
    },
    {
     "cell_type": "code",
     "collapsed": false,
     "input": [
      "my_matrix = []\n",
      "for counter in range(20):\n",
      "    row = [0 for x in range(239)]\n",
      "    row.append(1)\n",
      "    my_matrix.append(row)\n",
      "print np.array(my_matrix).shape"
     ],
     "language": "python",
     "metadata": {},
     "outputs": [
      {
       "output_type": "stream",
       "stream": "stdout",
       "text": [
        "(20L, 240L)\n"
       ]
      }
     ],
     "prompt_number": 37
    },
    {
     "cell_type": "code",
     "collapsed": false,
     "input": [
      "vector = np.array([1,2,3,4,5,6,7,8,9,10,11,12,13,14,15,16,17,18,19,20])\n",
      "T = np.array([[0,0,0,0,0,0,0,0,0,1,0,0,0,0,0,0,0,0,0,0],[0,0,0,0,0,0,0,0,0,0,0,0,0,0,0,0,0,0,0,1]])\n",
      "print T\n",
      "print T.dot(vector)"
     ],
     "language": "python",
     "metadata": {},
     "outputs": [
      {
       "output_type": "stream",
       "stream": "stdout",
       "text": [
        "[[0 0 0 0 0 0 0 0 0 1 0 0 0 0 0 0 0 0 0 0]\n",
        " [0 0 0 0 0 0 0 0 0 0 0 0 0 0 0 0 0 0 0 1]]\n",
        "[10 20]\n"
       ]
      }
     ],
     "prompt_number": 46
    },
    {
     "cell_type": "code",
     "collapsed": false,
     "input": [
      "my_array = []\n",
      "temp = [0 for x in range(24)]\n",
      "my_array.append(temp)\n",
      "my_array"
     ],
     "language": "python",
     "metadata": {},
     "outputs": [
      {
       "metadata": {},
       "output_type": "pyout",
       "prompt_number": 64,
       "text": [
        "[[0, 0, 0, 0, 0, 0, 0, 0, 0, 0, 0, 0, 0, 0, 0, 0, 0, 0, 0, 0, 0, 0, 0, 0]]"
       ]
      }
     ],
     "prompt_number": 64
    },
    {
     "cell_type": "code",
     "collapsed": false,
     "input": [
      "my_array = np.array([1,2,3,4,5,6])\n",
      "sumEveryThird = np.array([[1,0,0,1,0,0],[0,1,0,0,1,0],[0,0,1,0,0,1]])\n",
      "sumEveryThird.dot(my_array)"
     ],
     "language": "python",
     "metadata": {},
     "outputs": [
      {
       "metadata": {},
       "output_type": "pyout",
       "prompt_number": 68,
       "text": [
        "array([5, 7, 9])"
       ]
      }
     ],
     "prompt_number": 68
    },
    {
     "cell_type": "code",
     "collapsed": false,
     "input": [
      "my_matrix = np.tile(np.eye(N = 20, M = 20, k=0), 12)\n",
      "my_matrix.shape"
     ],
     "language": "python",
     "metadata": {},
     "outputs": [
      {
       "metadata": {},
       "output_type": "pyout",
       "prompt_number": 74,
       "text": [
        "(20L, 240L)"
       ]
      }
     ],
     "prompt_number": 74
    },
    {
     "cell_type": "code",
     "collapsed": false,
     "input": [
      "my_matrix = np.eye(N=10, M=150, k=0)\n",
      "for row_counter in range(10):\n",
      "    for col_counter in range(5):\n",
      "        my_matrix[row_counter, col_counter * row_counter] = 1\n",
      "print \"Matrix:\\n{0}\".format(my_matrix)"
     ],
     "language": "python",
     "metadata": {},
     "outputs": [
      {
       "output_type": "stream",
       "stream": "stdout",
       "text": [
        "Matrix:\n",
        "[[ 1.  0.  0. ...,  0.  0.  0.]\n",
        " [ 1.  1.  1. ...,  0.  0.  0.]\n",
        " [ 1.  0.  1. ...,  0.  0.  0.]\n",
        " ..., \n",
        " [ 1.  0.  0. ...,  0.  0.  0.]\n",
        " [ 1.  0.  0. ...,  0.  0.  0.]\n",
        " [ 1.  0.  0. ...,  0.  0.  0.]]\n"
       ]
      }
     ],
     "prompt_number": 79
    },
    {
     "cell_type": "code",
     "collapsed": false,
     "input": [
      "A = np.array([[0,0,0,0,0],[0,0,0,0,0]])\n",
      "A[:,2:4] = 1\n",
      "A"
     ],
     "language": "python",
     "metadata": {},
     "outputs": [
      {
       "metadata": {},
       "output_type": "pyout",
       "prompt_number": 94,
       "text": [
        "array([[0, 0, 1, 1, 0],\n",
        "       [0, 0, 1, 1, 0]])"
       ]
      }
     ],
     "prompt_number": 94
    },
    {
     "cell_type": "code",
     "collapsed": false,
     "input": [
      "print np.kron(np.eye(2), np.ones((1,3)))\n",
      "print np.tile((np.eye(3), np.ones((1,3))), 2)"
     ],
     "language": "python",
     "metadata": {},
     "outputs": [
      {
       "output_type": "stream",
       "stream": "stdout",
       "text": [
        "[[ 1.  1.  1.  0.  0.  0.]\n",
        " [ 0.  0.  0.  1.  1.  1.]]\n",
        "[array([[ 1.,  0.,  0.],\n",
        "       [ 0.,  1.,  0.],\n",
        "       [ 0.,  0.,  1.]])\n",
        " array([[ 1.,  1.,  1.]])\n",
        " array([[ 1.,  0.,  0.],\n",
        "       [ 0.,  1.,  0.],\n",
        "       [ 0.,  0.,  1.]])\n",
        " array([[ 1.,  1.,  1.]])]\n"
       ]
      }
     ],
     "prompt_number": 111
    },
    {
     "cell_type": "code",
     "collapsed": false,
     "input": [],
     "language": "python",
     "metadata": {},
     "outputs": []
    }
   ],
   "metadata": {}
  }
 ]
}