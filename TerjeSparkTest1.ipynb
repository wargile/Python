{
 "cells": [
  {
   "cell_type": "markdown",
   "metadata": {},
   "source": [
    "# Terje testing some Spark!"
   ]
  },
  {
   "cell_type": "code",
   "execution_count": 1,
   "metadata": {
    "collapsed": true
   },
   "outputs": [],
   "source": [
    "# from pyspark import SparkContext, SparkConf # Already included here\n",
    "import glob\n",
    "import re\n",
    "import operator\n",
    "from operator import add\n",
    "from ast import literal_eval"
   ]
  },
  {
   "cell_type": "code",
   "execution_count": 38,
   "metadata": {
    "collapsed": false
   },
   "outputs": [
    {
     "name": "stdout",
     "output_type": "stream",
     "text": [
      "[u'Wuthering Heights by Emily Bronte', u'CHAPTER I', u'1801.--I have just returned from a visit to my landlord--the solitary', u'neighbour that I shall be troubled with.  This is certainly a beautiful', u'country!  In all England, I do not believe that I could have fixed on a']\n",
      "[(u'and', 4748), (u'the', 4572), (u'i', 3573), (u'to', 3536), (u'a', 2324), (u'of', 2224), (u'he', 1949), (u'you', 1736), (u'her', 1551), (u'in', 1483), (u'his', 1424), (u'it', 1311), (u'she', 1283), (u'that', 1204), (u'was', 1127), (u'my', 1106), (u'me', 1065), (u'not', 938), (u'as', 936), (u'him', 925), (u'for', 843), (u'on', 815), (u'with', 806), (u'at', 785), (u'be', 727), (u'had', 689), (u'but', 687), (u'is', 654), (u'have', 633), (u'from', 486)]\n",
      "Wuthering Heights line count (blank lines omitted): 10008\n"
     ]
    },
    {
     "data": {
      "image/png": "[encoded data removed]",
      "text/plain": [
       "<matplotlib.figure.Figure at 0xb0e4770c>"
      ]
     },
     "metadata": {},
     "output_type": "display_data"
    }
   ],
   "source": [
    "# https://jupyter.org/\n",
    "# https://blog.jupyter.org/\n",
    "\n",
    "import matplotlib.pyplot as plt\n",
    "# import matplotlib.cm as cm\n",
    "\n",
    "# Count lines in the novel 'Wuthering Heights'\n",
    "import os.path\n",
    "import re\n",
    "\n",
    "baseDir = os.path.join('data')\n",
    "inputPath = os.path.join('terje', 'wuthering_heights.txt')\n",
    "fileName = os.path.join(baseDir, inputPath)\n",
    "\n",
    "rawData = sc.textFile(fileName, 4).filter(lambda a: len(a.strip()) > 0) # NOTE: Parallelize on 4 nodes\n",
    "print rawData.take(5)\n",
    "wutheringHeightsCount = rawData.count()\n",
    "\n",
    "def parse_string(string_to_parse):\n",
    "    wordlist = re.compile(\"([\\w][\\w]*'?\\w?)\").findall(string_to_parse)\n",
    "    return [s.lower() for s in wordlist]\n",
    "\n",
    "wordList = rawData.flatMap(lambda x: parse_string(x)).map(lambda x: (x, 1)).reduceByKey(lambda x, y: x + y)\n",
    "n = 30\n",
    "print wordList.takeOrdered(n, key = lambda x: -x[1])\n",
    "the_wordlist = wordList.takeOrdered(n, key = lambda x: -x[1])\n",
    "\n",
    "print \"Wuthering Heights line count (blank lines omitted):\", wutheringHeightsCount\n",
    "\n",
    "#fig = plt.figure(figsize=(8,4.2), facecolor='white', edgecolor='white')\n",
    "fig, axes = plt.subplots(figsize=(8.5, 2), frameon=False, facecolor='white', edgecolor='white')\n",
    "plt.axis([0, n, 0, the_wordlist[0][1]])\n",
    "plt.grid(b=True, which='major', axis='y', color=\"#888888\", linewidth=.8)\n",
    "plt.xlabel('Words')\n",
    "plt.ylabel('Frequency')\n",
    "barlist = plt.bar(range(n), [freq for (word, freq) in the_wordlist[0:n]], alpha = 0.45, color='#00bbaa')\n",
    "axes.tick_params(labelcolor='#555555', labelsize='8')\n",
    "axes.set_title(\"Wuthering Heights, most frequent words\")\n",
    "axes.set_xticklabels([word for (word, freq) in the_wordlist[0:n]], rotation=45, ha='center')\n",
    "for axis, ticks in [(axes.get_xaxis(), range(0, n)), (axes.get_yaxis(), range(0, the_wordlist[0][1]+1000, 1000))]:\n",
    "        axis.set_ticks_position('none')\n",
    "        axis.set_ticks(ticks)\n",
    "        axis.label.set_color('#666666')\n",
    "pass"
   ]
  },
  {
   "cell_type": "code",
   "execution_count": 8,
   "metadata": {
    "collapsed": false
   },
   "outputs": [
    {
     "name": "stdout",
     "output_type": "stream",
     "text": [
      "[u'139.116.15.40,LMKBRUKER,7/28/2014,0:08:31,W3SVC926698324,POSAP312,139.114.162.25,328,734,653,200,0,POST,/VHWebservice/VHWebServices.asmx,-,', u'139.116.15.40,LMKBRUKER,7/28/2014,0:10:13,W3SVC926698324,POSAP312,139.114.162.25,328,734,653,200,0,POST,/VHWebservice/VHWebServices.asmx,-,']\n",
      "811\n"
     ]
    }
   ],
   "source": [
    "inputPath = os.path.join('terje', 'iis3.log')\n",
    "fileName = os.path.join(baseDir, inputPath)\n",
    "\n",
    "rawData = sc.textFile(fileName)\n",
    "print \"Lines in file:\" + rawData.count() + \"\\n\"\n",
    "# Count action: Spark reads in data, sums within partitions (1 in this example), and combines result in driver\n",
    "\n",
    "errors = rawData.filter(lambda line: \"139.116.15.40\" in line).collect()\n",
    "print errors[1:3]\n",
    "errors = rawData.filter(lambda line: line.startswith(\"139.116.15.37,POSTEN\")).collect()\n",
    "print len(errors)\n",
    "# rawData.filter(lambda x: x.contains(\"LMKBRUKER\")).count()"
   ]
  },
  {
   "cell_type": "code",
   "execution_count": 7,
   "metadata": {
    "collapsed": false
   },
   "outputs": [
    {
     "name": "stdout",
     "output_type": "stream",
     "text": [
      "Textfile saved!\n"
     ]
    }
   ],
   "source": [
    "# More 'Wuthering Heights' manipulation - counting and sorting word requency\n",
    "inputPath = os.path.join('terje', 'wuthering_heights.txt')\n",
    "outputPath = os.path.join('terje', 'wuthering_heights_out1')\n",
    "\n",
    "fileName = os.path.join(baseDir, inputPath)\n",
    "fileNameOut = os.path.join(baseDir, outputPath)\n",
    "\n",
    "rawData = sc.textFile(fileName) # NOTE: No parallelization, 1 results file created\n",
    "# wc = rawData.flatMap(lambda x: x.split(' ')).map(lambda x: (x, 1)).reduceByKey(add)\n",
    "# wc = rawData.flatMap(lambda x: re.compile(\"([\\w][\\w]*'?\\w?)\").findall(x)).map(lambda x: (x, 1)).reduceByKey(add)\n",
    "wc = rawData.flatMap(lambda x: [x.lower() for x in re.compile(\"([\\w][\\w]*'?\\w?)\").findall(x)]).map(lambda x: (x, 1)).reduceByKey(add)\n",
    "# re.compile(\"([\\w][\\w]*'?\\w?)\").findall(\"This is so cool!\")\n",
    "\n",
    "wc.saveAsTextFile(fileNameOut)\n",
    "print \"Textfile saved!\""
   ]
  },
  {
   "cell_type": "code",
   "execution_count": 135,
   "metadata": {
    "collapsed": false
   },
   "outputs": [
    {
     "data": {
      "image/png": "[encoded data removed]",
      "text/plain": [
       "<matplotlib.figure.Figure at 0xb07f944c>"
      ]
     },
     "metadata": {},
     "output_type": "display_data"
    }
   ],
   "source": [
    "n = 30\n",
    "fig, axes = plt.subplots(figsize=(8.5, 2), frameon=False, facecolor='white', edgecolor='white')\n",
    "fig.set_frameon(False) # ??\n",
    "axes.tick_params(labelcolor='#555555', labelsize='8')\n",
    "plt.bar(range(n), [freq for (word, freq) in words_sorted[0:n]], alpha = 0.5)\n",
    "#plt.grid(color=\"#bbbbbb\", linewidth=.8, linestyle='-')\n",
    "max_y = words_sorted[0][1]\n",
    "for axis, ticks in [(axes.get_xaxis(), range(0, n)), (axes.get_yaxis(), range(0, max_y, 1000))]:\n",
    "        axis.set_ticks_position('none')\n",
    "        axis.set_ticks(ticks)\n",
    "        axis.label.set_color('#666666')\n",
    "axes.set_title(\"Wuthering Heights, most frequent words\")\n",
    "axes.set_xticklabels([word for (word, freq) in words_sorted[0:n]], rotation=45, ha='center')\n",
    "plt.show()\n"
   ]
  },
  {
   "cell_type": "code",
   "execution_count": 66,
   "metadata": {
    "collapsed": false,
    "scrolled": true
   },
   "outputs": [
    {
     "name": "stdout",
     "output_type": "stream",
     "text": [
      "[(u'and', 4748), (u'the', 4572), (u'i', 3573), (u'to', 3536), (u'a', 2324), (u'of', 2224), (u'he', 1949), (u'you', 1736), (u'her', 1551), (u'in', 1483), (u'his', 1424), (u'it', 1311), (u'she', 1283), (u'that', 1204), (u'was', 1127), (u'my', 1106), (u'me', 1065), (u'not', 938), (u'as', 936), (u'him', 925)]\n"
     ]
    }
   ],
   "source": [
    "outputPathSorted = os.path.join('terje', 'wuthering_heights_sorted.txt')\n",
    "fileNameOutSorted = os.path.join(baseDir, outputPathSorted)\n",
    "\n",
    "files = glob.glob(fileNameOut + \"/part-*\")\n",
    "words = []\n",
    "for f in files:\n",
    "    for e, line in enumerate(open(f, \"rb\")):\n",
    "        words.append(tuple(literal_eval(line.strip())))\n",
    "\n",
    "# words_sorted = sorted(words, key=operator.itemgetter(1, 0), reverse=True) # Sort on 1) frequency 2) word\n",
    "words_sorted = sorted(words, key = lambda x: (-x[1], x[0]))\n",
    "print words_sorted[0:20] # Print some of the highest frequencies\n",
    "\n",
    "f = open(fileNameOutSorted, \"wb\")\n",
    "for w, freq in words_sorted:\n",
    "    f.write(w + \";\" + str(freq) + \"\\n\")\n",
    "    \n",
    "f.close()"
   ]
  },
  {
   "cell_type": "markdown",
   "metadata": {
    "collapsed": false
   },
   "source": [
    "### Week 2 lectures\n",
    "### -----------------------"
   ]
  },
  {
   "cell_type": "code",
   "execution_count": 12,
   "metadata": {
    "collapsed": false
   },
   "outputs": [
    {
     "name": "stdout",
     "output_type": "stream",
     "text": [
      "[2, 4, 6, 8, 10, 12, 14, 16, 18, 20, 22, 24, 26, 28, 30, 32, 34, 36, 38, 40, 42, 44, 46, 48, 50]\n"
     ]
    }
   ],
   "source": [
    "rdd = sc.parallelize(range(1, 26, 1))\n",
    "# No computation happens, lazy evaluation. Spark saves the \"recipe\" for creating the result here\n",
    "result = rdd.map(lambda x: x * 2).collect() # lambdas are closures/actions passed to workers\n",
    "print result"
   ]
  },
  {
   "cell_type": "code",
   "execution_count": 14,
   "metadata": {
    "collapsed": false
   },
   "outputs": [
    {
     "name": "stdout",
     "output_type": "stream",
     "text": [
      "[3, 6, 9, 12, 15, 18, 21, 24]\n"
     ]
    }
   ],
   "source": [
    "result = rdd.filter(lambda x: x % 3 == 0).collect()\n",
    "print result"
   ]
  },
  {
   "cell_type": "code",
   "execution_count": 21,
   "metadata": {
    "collapsed": false
   },
   "outputs": [
    {
     "name": "stdout",
     "output_type": "stream",
     "text": [
      "[1, 2, 3, 4, 5, 6, 7, 8, 9, 10, 11, 12, 1, 2, 3, 4, 5, 6, 7, 8, 9, 10, 11, 12, 13, 14, 15]\n",
      "[1, 2, 3, 4, 5, 6, 7, 8, 9, 10, 11, 12, 13, 14, 15]\n"
     ]
    }
   ],
   "source": [
    "mydata = range(1, 13, 1) + range(1, 16, 1)\n",
    "print mydata\n",
    "rdd2 = sc.parallelize(mydata)\n",
    "print rdd2.distinct().collect()"
   ]
  },
  {
   "cell_type": "code",
   "execution_count": 25,
   "metadata": {
    "collapsed": false
   },
   "outputs": [
    {
     "name": "stdout",
     "output_type": "stream",
     "text": [
      "[[1, 6], [2, 7], [3, 8], [4, 9], [5, 10], [6, 11], [7, 12], [8, 13], [9, 14], [10, 15], [11, 16], [12, 17], [1, 6], [2, 7], [3, 8], [4, 9], [5, 10], [6, 11], [7, 12], [8, 13], [9, 14], [10, 15], [11, 16], [12, 17], [13, 18], [14, 19], [15, 20]]\n",
      "[1, 2, 3, 4, 5, 6, 7, 8, 9, 10, 11, 12, 13, 14, 15, 16, 17, 18, 19, 20]\n"
     ]
    }
   ],
   "source": [
    "print rdd2.map(lambda x: [x, x + 5]).collect()\n",
    "print rdd2.flatMap(lambda x: [x, x + 5]).distinct().collect()"
   ]
  },
  {
   "cell_type": "code",
   "execution_count": 4,
   "metadata": {
    "collapsed": false
   },
   "outputs": [
    {
     "name": "stdout",
     "output_type": "stream",
     "text": [
      "40320\n",
      "40320\n"
     ]
    }
   ],
   "source": [
    "rdd3 = sc.parallelize([1,2,3,4,5,6,7,8])\n",
    "result = rdd3.reduce(lambda a, b: a * b)\n",
    "print(1*2*3*4*5*6*7*8)\n",
    "print result"
   ]
  },
  {
   "cell_type": "code",
   "execution_count": 9,
   "metadata": {
    "collapsed": false
   },
   "outputs": [
    {
     "data": {
      "text/plain": [
       "[17, 10, 8, 5]"
      ]
     },
     "execution_count": 9,
     "metadata": {},
     "output_type": "execute_result"
    }
   ],
   "source": [
    "rdd4 = sc.parallelize([5,8,1,2,10,17])\n",
    "rdd4.takeOrdered(3, lambda s: -1 * s) # Take 3 elements, DESC sorting"
   ]
  },
  {
   "cell_type": "code",
   "execution_count": 3,
   "metadata": {
    "collapsed": false
   },
   "outputs": [
    {
     "name": "stdout",
     "output_type": "stream",
     "text": [
      "[(1, 'a'), (2, 'b'), (2, 'd'), (2, 'e'), (3, 'c')]\n"
     ]
    }
   ],
   "source": [
    "rdd5 = sc.parallelize([(1,'a'), (2,'b'), (3,'c'),(2,'d'),(2,'e')]) # Key-Value pairs, a Pairs RDD, each element is a pair tuple\n",
    "print rdd5.sortByKey().collect()"
   ]
  },
  {
   "cell_type": "code",
   "execution_count": 6,
   "metadata": {
    "collapsed": false
   },
   "outputs": [
    {
     "name": "stdout",
     "output_type": "stream",
     "text": [
      "[(1, 1), (2, 8), (3, 3)]\n"
     ]
    }
   ],
   "source": [
    "rdd6 = sc.parallelize([(1,1), (2,2), (3,3), (2,2), (2,2)]) # Key-Value pairs, a Pairs RDD, each element is a pair tuple\n",
    "print rdd6.reduceByKey(lambda a, b: a * b).collect()"
   ]
  },
  {
   "cell_type": "code",
   "execution_count": 22,
   "metadata": {
    "collapsed": false
   },
   "outputs": [
    {
     "name": "stdout",
     "output_type": "stream",
     "text": [
      "['a']\n",
      "['b', 'd', 'e']\n",
      "['c']\n"
     ]
    }
   ],
   "source": [
    "rdd7 = sc.parallelize([(1,'a'), (2,'b'), (3,'c'),(2,'d'),(2,'e')]) # Key-Value pairs, a Pairs RDD, each element is a pair tuple\n",
    "result = rdd7.groupByKey().partitionBy(1).map(lambda x: sorted(x[1].data)).collect()\n",
    "# Be careful, as groupByKey can cause a lot of data movement on huge arrays\n",
    "#result\n",
    "for x in result:\n",
    "    print x"
   ]
  },
  {
   "cell_type": "markdown",
   "metadata": {},
   "source": [
    "## pySpark shared variables\n",
    "### Broadcast variables\n",
    "Efficiently send large, read-only variable to workers\n",
    "Saved at workers to use in one or more Spark operations\n",
    "It's like sending a large, read-only lookup table to all workers\n",
    "### Accumulators\n",
    "Aggregate values from workers back to driver\n",
    "Only driver can access value from accumulator\n",
    "For tasks, accumulators are write-only\n",
    "Use to count errors seen in RDD across all workers\n",
    "\n",
    "In iterative or repeated computations, broadcast variables avoid the problem of SENDING the SAME data to workers.\n",
    "Accumulators can NOT be used by Spark workers to efficiently READ values during distributed computations."
   ]
  },
  {
   "cell_type": "code",
   "execution_count": 87,
   "metadata": {
    "collapsed": false
   },
   "outputs": [
    {
     "name": "stdout",
     "output_type": "stream",
     "text": [
      "[20, 30, 0, 50, 0]\n"
     ]
    },
    {
     "data": {
      "text/plain": [
       "50"
      ]
     },
     "execution_count": 87,
     "metadata": {},
     "output_type": "execute_result"
    }
   ],
   "source": [
    "my_huge_dict = {'a': 20, 'b': 30, 'd': 50}\n",
    "broadcastVar = sc.broadcast(my_huge_dict) # Read-only, sent to all workers in a closure\n",
    "broadcastVar.value\n",
    "my_letters = sc.parallelize(['a','b','c','d','e'])\n",
    "\n",
    "def my_lookup_function(letter):\n",
    "    a = 0\n",
    "    if letter in broadcastVar.value:\n",
    "        a = broadcastVar.value[letter]\n",
    "    return a\n",
    "\n",
    "letter_count = my_letters.map(my_lookup_function).collect()\n",
    "print letter_count"
   ]
  },
  {
   "cell_type": "code",
   "execution_count": 65,
   "metadata": {
    "collapsed": false
   },
   "outputs": [
    {
     "name": "stdout",
     "output_type": "stream",
     "text": [
      "Number of blank lines in 'Wuthering Heights' is 2076\n"
     ]
    }
   ],
   "source": [
    "# Using accumulators\n",
    "inputPath = os.path.join('terje', 'wuthering_heights.txt')\n",
    "fileName = os.path.join(baseDir, inputPath)\n",
    "\n",
    "rawData = sc.textFile(fileName) # NOTE: No parallelization, 1 results file created\n",
    "# print rawData\n",
    "blankLines = sc.accumulator(0) # Init\n",
    "\n",
    "def countBlankLines(line):\n",
    "    global blankLines # Important!\n",
    "    if len(line.strip()) == 0:\n",
    "        blankLines += 1\n",
    "\n",
    "blankLinesCount = rawData.foreach(countBlankLines)\n",
    "print \"Number of blank lines in 'Wuthering Heights' is %d\" % blankLines.value"
   ]
  },
  {
   "cell_type": "code",
   "execution_count": 59,
   "metadata": {
    "collapsed": false
   },
   "outputs": [
    {
     "name": "stdout",
     "output_type": "stream",
     "text": [
      "Number of blank lines is 3\n"
     ]
    }
   ],
   "source": [
    "blankLines = sc.accumulator(0) # Init\n",
    "rawData = sc.parallelize([\"A line\", \"\", \"another line\", \"yes\", \"\", \"\", \"Last one!\"])\n",
    "def f(line):\n",
    "    global blankLines\n",
    "    if len(line.strip()) == 0:\n",
    "        blankLines += 1 # Seen at worker as a write-only variable, can NOT see the value!\n",
    "    \n",
    "rawData.foreach(f)\n",
    "print \"Number of blank lines is %d\" % blankLines.value"
   ]
  },
  {
   "cell_type": "code",
   "execution_count": 75,
   "metadata": {
    "collapsed": false
   },
   "outputs": [
    {
     "name": "stdout",
     "output_type": "stream",
     "text": [
      "45\n"
     ]
    }
   ],
   "source": [
    "accum = sc.accumulator(0)\n",
    "sc.parallelize(range(1, 10, 1)).foreach(lambda x: accum.add(x))\n",
    "print accum.value"
   ]
  },
  {
   "cell_type": "code",
   "execution_count": 7,
   "metadata": {
    "collapsed": false
   },
   "outputs": [
    {
     "name": "stdout",
     "output_type": "stream",
     "text": [
      "5\n"
     ]
    }
   ],
   "source": [
    "import string\n",
    "#string.split(\"This    is a string... yes\")\n",
    "print len(\"This    is a string... yes\".split())"
   ]
  },
  {
   "cell_type": "code",
   "execution_count": 26,
   "metadata": {
    "collapsed": false
   },
   "outputs": [
    {
     "name": "stdout",
     "output_type": "stream",
     "text": [
      "Balle#Klorin\n"
     ]
    }
   ],
   "source": [
    "# TIP: Use https://regex101.com/ to test your regex!\n",
    "import re\n",
    "pattern = '^(\\S+) \"(\\S*)(\\s?)\"'\n",
    "match = re.search(pattern, 'Balle \"Klorin \"')\n",
    "#match = re.search(pattern, 'Balle \"Klorin\"')\n",
    "print match.group(1) + \"#\" + match.group(2)"
   ]
  },
  {
   "cell_type": "code",
   "execution_count": 2,
   "metadata": {
    "collapsed": false
   },
   "outputs": [
    {
     "name": "stdout",
     "output_type": "stream",
     "text": [
      "[('Testing tuple', 22)]\n"
     ]
    }
   ],
   "source": [
    "my_list = []\n",
    "my_tuple = ('Testing tuple', 22)\n",
    "my_list.append(my_tuple)\n",
    "print my_list"
   ]
  },
  {
   "cell_type": "code",
   "execution_count": 3,
   "metadata": {
    "collapsed": false
   },
   "outputs": [
    {
     "name": "stdout",
     "output_type": "stream",
     "text": [
      "{'Three': 3, 'Two': 2, 'One': 1}\n"
     ]
    }
   ],
   "source": [
    "my_tuples = [('One', 1), ('Two', 2), ('Three', 3)]\n",
    "print dict(my_tuples)"
   ]
  },
  {
   "cell_type": "code",
   "execution_count": null,
   "metadata": {
    "collapsed": true
   },
   "outputs": [],
   "source": []
  }
 ],
 "metadata": {
  "kernelspec": {
   "display_name": "Python 2",
   "language": "python",
   "name": "python2"
  },
  "language_info": {
   "codemirror_mode": {
    "name": "ipython",
    "version": 2
   },
   "file_extension": ".py",
   "mimetype": "text/x-python",
   "name": "python",
   "nbconvert_exporter": "python",
   "pygments_lexer": "ipython2",
   "version": "2.7.6"
  }
 },
 "nbformat": 4,
 "nbformat_minor": 0
}
